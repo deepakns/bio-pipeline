{
  "nbformat": 4,
  "nbformat_minor": 0,
  "metadata": {
    "colab": {
      "provenance": [],
      "authorship_tag": "ABX9TyOEGVGZOQesULE8RFlD7dJq"
    },
    "kernelspec": {
      "name": "python3",
      "display_name": "Python 3"
    }
  },
  "cells": [
    {
      "cell_type": "markdown",
      "source": [
        "# UMC 301: Applied Data Science and Artificial Intelligence\n",
        "#Python Tutorial"
      ],
      "metadata": {
        "id": "PVWkb38pPUl3"
      }
    },
    {
      "cell_type": "markdown",
      "source": [
        "# How to learn a programming language?\n",
        "\n",
        "Learning a language involves learning the building blocks. The building blocks in programming are:\n",
        "\n",
        "\n",
        "1.   Data structures, variables and operations\n",
        "2.   Conditionals\n",
        "3.   Iterables\n",
        "4.   Functions\n",
        "5.   Programming Style - Procedural, Object Oriented\n"
      ],
      "metadata": {
        "id": "cwuWaTv_NnTw"
      }
    },
    {
      "cell_type": "markdown",
      "metadata": {
        "id": "pnABr4KkLEx1"
      },
      "source": [
        "# Data Structures, Variables and Operations\n",
        "We will start our study of Python with simple exercises to perform basic operations\n",
        "\n",
        "The important native datatypes in Python are as follows.\n",
        "\n",
        "\n",
        "1.   Boolean\n",
        "2.   Numbers - Integers, Real (Float), Complex\n",
        "3.   Stings -- In single ('abc') or double quotes (\"abc\")\n",
        "4.   Byte arrays - e.g., image file, audio file\n",
        "5.   Lists - Ordered sequence of values - Declared with a square bracket [] and values are separated with a comma. Values can be any other data type. [1,3,'abc'] is a list.\n",
        "6.   Tuple - Ordred, immutable sequence of values - Declared with simple brackets (). Values are separated with a comma\n",
        "7.   Sets - Unordered bags of values - Declared with curly brackets {} and values are separated with a comma.\n",
        "8.   Dictionary - Unorderd key-value pairs - Declared with curly brackets {}, key:value pairs are separated by a colon (:), and multiple key-value pairs are separated with a comma.\n",
        "\n"
      ]
    },
    {
      "cell_type": "code",
      "metadata": {
        "id": "6CkJ2O0rLBCJ"
      },
      "source": [
        "ex_str = 'this is python 3.6'\n",
        "ex_list = ['this','is','python',3.6]\n",
        "ex_tuple = (1,2,4)\n",
        "ex_set = {1,2,4}\n",
        "ex_dict = {1:'this', 'two':'is'}"
      ],
      "execution_count": null,
      "outputs": []
    },
    {
      "cell_type": "code",
      "metadata": {
        "colab": {
          "base_uri": "https://localhost:8080/"
        },
        "id": "1pOhtrNSNlFz",
        "outputId": "188ffc17-e08b-4023-a82b-d814e255b452"
      },
      "source": [
        "print(ex_str) #used to display a variable\n",
        "print(ex_list)\n",
        "print(ex_tuple)\n",
        "print(ex_set)"
      ],
      "execution_count": null,
      "outputs": [
        {
          "output_type": "stream",
          "text": [
            "this is python 3.6\n",
            "['this', 'is', 'python', 3.6]\n",
            "(1, 2, 4)\n",
            "{1, 2, 4}\n"
          ],
          "name": "stdout"
        }
      ]
    },
    {
      "cell_type": "code",
      "metadata": {
        "colab": {
          "base_uri": "https://localhost:8080/"
        },
        "id": "qTbiXJWROOXu",
        "outputId": "ad6ead01-1f35-4892-d929-eb06e8a45bfb"
      },
      "source": [
        "print(ex_list[2]) # use square brackets with the variable name to access a particular index from that data type. Python counts from 0. The first element in a list, tuple is indexed with 0\n",
        "print(ex_tuple[0])"
      ],
      "execution_count": null,
      "outputs": [
        {
          "output_type": "stream",
          "text": [
            "python\n",
            "1\n"
          ],
          "name": "stdout"
        }
      ]
    },
    {
      "cell_type": "markdown",
      "metadata": {
        "id": "HXbPpm5SPVmc"
      },
      "source": [
        "Dictionary is indexed with its key. Sets have no meaning of indexing."
      ]
    },
    {
      "cell_type": "code",
      "metadata": {
        "colab": {
          "base_uri": "https://localhost:8080/"
        },
        "id": "yKoq04XUOZNV",
        "outputId": "7ea15ace-93c2-463f-ca48-6e363431e4a6"
      },
      "source": [
        "print(ex_dict[1])\n",
        "print(ex_dict['two'])"
      ],
      "execution_count": null,
      "outputs": [
        {
          "output_type": "stream",
          "text": [
            "this\n",
            "is\n"
          ],
          "name": "stdout"
        }
      ]
    },
    {
      "cell_type": "code",
      "metadata": {
        "colab": {
          "base_uri": "https://localhost:8080/",
          "height": 167
        },
        "id": "-_uswOAPlaIw",
        "outputId": "2328091d-2935-4c89-f62e-7d3101321d83"
      },
      "source": [
        "ex_set[1]"
      ],
      "execution_count": null,
      "outputs": [
        {
          "output_type": "error",
          "ename": "TypeError",
          "evalue": "ignored",
          "traceback": [
            "\u001b[0;31m---------------------------------------------------------------------------\u001b[0m",
            "\u001b[0;31mTypeError\u001b[0m                                 Traceback (most recent call last)",
            "\u001b[0;32m<ipython-input-6-1f5468581939>\u001b[0m in \u001b[0;36m<module>\u001b[0;34m()\u001b[0m\n\u001b[0;32m----> 1\u001b[0;31m \u001b[0mex_set\u001b[0m\u001b[0;34m[\u001b[0m\u001b[0;36m1\u001b[0m\u001b[0;34m]\u001b[0m\u001b[0;34m\u001b[0m\u001b[0;34m\u001b[0m\u001b[0m\n\u001b[0m",
            "\u001b[0;31mTypeError\u001b[0m: 'set' object does not support indexing"
          ]
        }
      ]
    },
    {
      "cell_type": "markdown",
      "metadata": {
        "id": "KHLZSFImPvUn"
      },
      "source": [
        "# Basic Operations\n",
        "\n",
        "Usual symbols are for retained for add, subtract, multiply and divide, greater than, less than, is equal to (==), not equal to (!=)\n",
        "\n",
        "** is for raise to a power\n",
        "\n"
      ]
    },
    {
      "cell_type": "markdown",
      "source": [
        "# Conditionals"
      ],
      "metadata": {
        "id": "6Ia6PndBOctn"
      }
    },
    {
      "cell_type": "code",
      "metadata": {
        "colab": {
          "base_uri": "https://localhost:8080/",
          "height": 132
        },
        "id": "mf2pOYA9mUnE",
        "outputId": "bf8313f4-13cc-406b-811d-27d074664fe0"
      },
      "source": [
        "a = 1\n",
        "b = 2\n",
        "if (a>b):\n",
        "  print ('a is greater than b')\n",
        "else:\n",
        "  print ('b is greater than a')"
      ],
      "execution_count": null,
      "outputs": [
        {
          "output_type": "error",
          "ename": "IndentationError",
          "evalue": "ignored",
          "traceback": [
            "\u001b[0;36m  File \u001b[0;32m\"<ipython-input-8-f2743baa1cd6>\"\u001b[0;36m, line \u001b[0;32m5\u001b[0m\n\u001b[0;31m    else:\u001b[0m\n\u001b[0m         ^\u001b[0m\n\u001b[0;31mIndentationError\u001b[0m\u001b[0;31m:\u001b[0m unindent does not match any outer indentation level\n"
          ]
        }
      ]
    },
    {
      "cell_type": "code",
      "metadata": {
        "colab": {
          "base_uri": "https://localhost:8080/"
        },
        "id": "eRKPWTT7O7xO",
        "outputId": "9c6bb3e3-b7a3-464b-d6d8-d6bb4f05cb3d"
      },
      "source": [
        "if (1>2):\n",
        "  print ('1 is greater than 2')\n",
        "else:\n",
        "  print ('2 is greater than 1')\n",
        "# In python you have to leave space and ensure that whatever you want to execute with a if (cond): has to come in the same line.\n",
        "# Python promotes readability of code\n",
        "\n",
        "if (1>2):\n",
        "  print ('1 is greater than 2')\n",
        "elif (1==2):\n",
        "  print ('1 is equal to 2')\n",
        "else:\n",
        "  print ('2 is greater than 1')"
      ],
      "execution_count": null,
      "outputs": [
        {
          "output_type": "stream",
          "text": [
            "2 is greater than 1\n",
            "2 is greater than 1\n"
          ],
          "name": "stdout"
        }
      ]
    },
    {
      "cell_type": "code",
      "metadata": {
        "colab": {
          "base_uri": "https://localhost:8080/",
          "height": 128
        },
        "id": "DZZlU9qkQsQr",
        "outputId": "02a922f6-728c-426f-c439-4ae09496a52a"
      },
      "source": [
        "if (1>2):\n",
        "print ('1 is greater than 2')\n",
        "  else:\n",
        "  print ('2 is greater than 1')\n",
        "\n",
        "# This code will result in an IndentationError"
      ],
      "execution_count": null,
      "outputs": [
        {
          "output_type": "error",
          "ename": "IndentationError",
          "evalue": "ignored",
          "traceback": [
            "\u001b[0;36m  File \u001b[0;32m\"<ipython-input-15-1ca7362e7a9e>\"\u001b[0;36m, line \u001b[0;32m2\u001b[0m\n\u001b[0;31m    print ('1 is greater than 2')\u001b[0m\n\u001b[0m        ^\u001b[0m\n\u001b[0;31mIndentationError\u001b[0m\u001b[0;31m:\u001b[0m expected an indented block\n"
          ]
        }
      ]
    },
    {
      "cell_type": "markdown",
      "metadata": {
        "id": "d_YfMbVQTkUs"
      },
      "source": [
        "# Iterables\n",
        "\n",
        "loops are important in programming and Python allows several easy ways to loop through lists"
      ]
    },
    {
      "cell_type": "code",
      "metadata": {
        "colab": {
          "base_uri": "https://localhost:8080/"
        },
        "id": "egyi6s3YQ79v",
        "outputId": "19d3f1f5-0608-4e7a-ffe0-97439774f453"
      },
      "source": [
        "indx = [1,2,3,4,5]\n",
        "for id in indx:\n",
        "    print(id**2)"
      ],
      "execution_count": null,
      "outputs": [
        {
          "output_type": "stream",
          "name": "stdout",
          "text": [
            "1\n",
            "4\n",
            "9\n",
            "16\n",
            "25\n"
          ]
        }
      ]
    },
    {
      "cell_type": "markdown",
      "metadata": {
        "id": "d8rl8Va9V2qF"
      },
      "source": [
        "# List Comprehension - Special feature of Python"
      ]
    },
    {
      "cell_type": "code",
      "metadata": {
        "id": "PoSXHN1AT4F4"
      },
      "source": [
        "indx2 = [x**2 if x>3 else x for x in indx] # return x**2 if x>3, o/w return x, for all x in the indx"
      ],
      "execution_count": null,
      "outputs": []
    },
    {
      "cell_type": "code",
      "metadata": {
        "colab": {
          "base_uri": "https://localhost:8080/"
        },
        "id": "e0BKSuaGUCkp",
        "outputId": "43238f87-3d0a-46d2-b400-2d2b3b98c74a"
      },
      "source": [
        "indx2\n",
        "indx"
      ],
      "execution_count": null,
      "outputs": [
        {
          "output_type": "execute_result",
          "data": {
            "text/plain": [
              "[1, 2, 3, 4, 5]"
            ]
          },
          "metadata": {
            "tags": []
          },
          "execution_count": 15
        }
      ]
    },
    {
      "cell_type": "code",
      "metadata": {
        "colab": {
          "base_uri": "https://localhost:8080/",
          "height": 162
        },
        "id": "Zeubc9rlUtgR",
        "outputId": "9fc2d7f0-df0a-42a8-f233-538f732c2bf8"
      },
      "source": [
        "indx3 = indx[indx>3] # Will throw an error"
      ],
      "execution_count": null,
      "outputs": [
        {
          "output_type": "error",
          "ename": "TypeError",
          "evalue": "ignored",
          "traceback": [
            "\u001b[0;31m---------------------------------------------------------------------------\u001b[0m",
            "\u001b[0;31mTypeError\u001b[0m                                 Traceback (most recent call last)",
            "\u001b[0;32m<ipython-input-33-9ee7f8fd58b8>\u001b[0m in \u001b[0;36m<module>\u001b[0;34m()\u001b[0m\n\u001b[0;32m----> 1\u001b[0;31m \u001b[0mindx3\u001b[0m \u001b[0;34m=\u001b[0m \u001b[0mindx\u001b[0m\u001b[0;34m[\u001b[0m\u001b[0mindx\u001b[0m\u001b[0;34m>\u001b[0m\u001b[0;36m3\u001b[0m\u001b[0;34m]\u001b[0m\u001b[0;34m\u001b[0m\u001b[0;34m\u001b[0m\u001b[0m\n\u001b[0m",
            "\u001b[0;31mTypeError\u001b[0m: '>' not supported between instances of 'list' and 'int'"
          ]
        }
      ]
    },
    {
      "cell_type": "code",
      "metadata": {
        "id": "byuyBlCpVPxr"
      },
      "source": [
        "indx3 = [i for i in indx if i > 3]"
      ],
      "execution_count": null,
      "outputs": []
    },
    {
      "cell_type": "code",
      "metadata": {
        "colab": {
          "base_uri": "https://localhost:8080/"
        },
        "id": "tV2QZDckVrix",
        "outputId": "ffe1bd0f-da51-4b04-cbe4-dad8280cb639"
      },
      "source": [
        "indx3"
      ],
      "execution_count": null,
      "outputs": [
        {
          "output_type": "execute_result",
          "data": {
            "text/plain": [
              "[4, 5]"
            ]
          },
          "metadata": {
            "tags": []
          },
          "execution_count": 35
        }
      ]
    },
    {
      "cell_type": "markdown",
      "metadata": {
        "id": "fGwu2BzVWFc3"
      },
      "source": [
        "# Functions\n",
        "Write a function for tasks that you perform repeatedly"
      ]
    },
    {
      "cell_type": "code",
      "metadata": {
        "id": "igqSLnpZVsrR"
      },
      "source": [
        "def cube(num):\n",
        "  return num**3"
      ],
      "execution_count": null,
      "outputs": []
    },
    {
      "cell_type": "code",
      "metadata": {
        "colab": {
          "base_uri": "https://localhost:8080/"
        },
        "id": "A6q5jcQzWasS",
        "outputId": "95cc55fe-d1ed-4669-afcc-763b0fd51184"
      },
      "source": [
        "cube(3)"
      ],
      "execution_count": null,
      "outputs": [
        {
          "output_type": "execute_result",
          "data": {
            "text/plain": [
              "27"
            ]
          },
          "metadata": {
            "tags": []
          },
          "execution_count": 19
        }
      ]
    },
    {
      "cell_type": "markdown",
      "metadata": {
        "id": "b2lqU7ffYOSE"
      },
      "source": [
        "# Everything is an Object in Python\n",
        "\n",
        "And these objects have methods associated with it.\n",
        "\n",
        "For example, string is an object"
      ]
    },
    {
      "cell_type": "code",
      "metadata": {
        "colab": {
          "base_uri": "https://localhost:8080/"
        },
        "id": "Hn8sLI5bYggq",
        "outputId": "e4da084e-56c0-482f-a2db-c44b6e770f79"
      },
      "source": [
        "ex_str = \"this is python\"\n",
        "print(ex_str.capitalize()) #capitatlizes the first character\n",
        "print(ex_str.count(' is')) #counts the number of 'is' in the ex_str string"
      ],
      "execution_count": null,
      "outputs": [
        {
          "output_type": "stream",
          "text": [
            "This is python\n",
            "1\n"
          ],
          "name": "stdout"
        }
      ]
    },
    {
      "cell_type": "markdown",
      "metadata": {
        "id": "gINqTfMSWqrR"
      },
      "source": [
        "# I don't know the syntax!\n",
        "\n",
        "If you know what you want to do, but are searching for the syntax, then just google in english what you want to do, and google will most likely return an answer with the python syntax! - Power of the community\n",
        "\n",
        "As an exercise, write a function that splits a string to list components and searches if a particular word 'car' is present in the sentence.\n",
        "\n",
        "Note: you can do this problem in multiple ways, but try to use loops, if, strings, lists.\n",
        "\n",
        "First breakdown the problem to a set of steps that must be perfomed (COMPUTATIONAL THINKING!)\n",
        "\n",
        "Then, search for the syntax and implement code"
      ]
    },
    {
      "cell_type": "code",
      "metadata": {
        "id": "JPno9TpjWcfi"
      },
      "source": [],
      "execution_count": null,
      "outputs": []
    },
    {
      "cell_type": "markdown",
      "metadata": {
        "id": "K_7-dDYeY7ks"
      },
      "source": [
        "# Numpy and Matplotlib\n",
        "\n",
        "numpy is a python package that we use for data-driven modeling, optimization, machine learning, scientific computation, and analysis.\n",
        "\n",
        "matplotlib is a python package used for visualization.\n",
        "\n",
        "numpy provides access to numpy arrays that are fast and more efficient than python native lists. numpy package also has a lot of methods implemented which we will use for several computational tasks.\n",
        "\n",
        "numpy arrays can be indexed, sliced, queried, looped over fast, to name a few advantages.\n",
        "\n",
        "numpy array objects have also several methods and attributes defined on it. methods include max(), min(), argmax() etc, and attributes include shape, dtype.\n",
        "\n",
        "We alsready saw an example of numpy and matplotlib in the introduction to colab notebook. Now we will see a few more examples."
      ]
    },
    {
      "cell_type": "code",
      "metadata": {
        "id": "JNaT3tQ8aJrI"
      },
      "source": [
        "import numpy as np # to bring numpy package to your run time\n",
        "import matplotlib.pyplot as plt\n"
      ],
      "execution_count": null,
      "outputs": []
    },
    {
      "cell_type": "code",
      "metadata": {
        "id": "LMt3hWWx0ltM"
      },
      "source": [
        "ex_matrix = np.array([[1,2,3],[4,5,6],[7,8,9]])\n",
        "ones_matrix = np.ones((3,3,4))\n",
        "one_matrix = np.ones((4,5))\n",
        "arr_2d = np.array(([5,10,15],[20,25,30],[35,40,45]))"
      ],
      "execution_count": null,
      "outputs": []
    },
    {
      "cell_type": "code",
      "metadata": {
        "colab": {
          "base_uri": "https://localhost:8080/"
        },
        "id": "5L3W4X4x1oRw",
        "outputId": "b0876262-0893-43ec-aff3-d08551d8b6a2"
      },
      "source": [
        "print(ones_matrix)"
      ],
      "execution_count": null,
      "outputs": [
        {
          "output_type": "stream",
          "text": [
            "[[[1. 1. 1. 1.]\n",
            "  [1. 1. 1. 1.]\n",
            "  [1. 1. 1. 1.]]\n",
            "\n",
            " [[1. 1. 1. 1.]\n",
            "  [1. 1. 1. 1.]\n",
            "  [1. 1. 1. 1.]]\n",
            "\n",
            " [[1. 1. 1. 1.]\n",
            "  [1. 1. 1. 1.]\n",
            "  [1. 1. 1. 1.]]]\n"
          ],
          "name": "stdout"
        }
      ]
    },
    {
      "cell_type": "code",
      "metadata": {
        "colab": {
          "base_uri": "https://localhost:8080/"
        },
        "id": "_jBVUOIbaUzE",
        "outputId": "4d24d75a-8653-4753-8bba-7c59d8175bdb"
      },
      "source": [
        "ex_matrix = np.array([[1,2,3],[4,5,6],[7,8,9]]) # a nested list (list of lists) is used to create an array here\n",
        "ones_matrix = np.ones((3,3)) #creates a matrix with entries as one of dimension given by the tuple (3,3)\n",
        "\n",
        "#notice that lists came with [] and tuple came with ()\n",
        "\n",
        "arr_2d = np.array(([5,10,15],[20,25,30],[35,40,45])) # a tuple of lists can also be used to start an array\n",
        "\n",
        "np.arange(0,11,2) #produces an array starting from 0 and upto 11 (excluding 11) in steps of 2.\n",
        "\n",
        "np.random.rand(2) # the random class within numpy has several methods for working with random distributions"
      ],
      "execution_count": null,
      "outputs": [
        {
          "output_type": "execute_result",
          "data": {
            "text/plain": [
              "array([0.54810095, 0.58398361])"
            ]
          },
          "metadata": {
            "tags": []
          },
          "execution_count": 44
        }
      ]
    },
    {
      "cell_type": "markdown",
      "metadata": {
        "id": "TaF27X7icSje"
      },
      "source": [
        "# Indexing\n",
        "\n",
        "One of the most improtant feature of numpy array is indexing and broadcasting\n",
        "\n"
      ]
    },
    {
      "cell_type": "code",
      "metadata": {
        "colab": {
          "base_uri": "https://localhost:8080/"
        },
        "id": "cB6visJy241-",
        "outputId": "a58dbc0c-f7c6-4826-d4db-692d7722aafc"
      },
      "source": [
        "print(ex_matrix)\n",
        "\n",
        "\n",
        "\n",
        "print(ex_matrix[1][0])\n",
        "\n",
        "print(ex_matrix[0:2,0:2])"
      ],
      "execution_count": null,
      "outputs": [
        {
          "output_type": "stream",
          "text": [
            "[[1 2 3]\n",
            " [4 5 6]\n",
            " [7 8 9]]\n",
            "4\n",
            "[[1 2]\n",
            " [4 5]]\n"
          ],
          "name": "stdout"
        }
      ]
    },
    {
      "cell_type": "code",
      "metadata": {
        "colab": {
          "base_uri": "https://localhost:8080/"
        },
        "id": "GseAEyXech1N",
        "outputId": "259729eb-080c-4968-c02e-e2a6f3e58239"
      },
      "source": [
        "ex_arr = np.arange(0,11)\n",
        "\n",
        "print(ex_arr[3]) # simple indexing with [] brackets just like a list\n",
        "print(ex_arr[3:5]) # select indices 3,4, when using indexing the last entry is excluded and first entry is included\n",
        "print(ex_arr[:3]) # grabs everything from the beginning upto index 3, excuding the index 3\n",
        "print(ex_arr[3:]) # grabs everything beginning from index 3 (including it), and until the end of the array\n",
        "print(ex_arr[4:8:2]) # grab everythin between 4 and 8 (excluding 8), in steps of 2\n",
        "print(ex_matrix[1,2]) # row index, col index for a 2-d array\n",
        "print(ex_matrix[1][2]) # differnt syntax for the same as above. Here we are getting a 1-d array first and then using indexing on that 1-d array. In the previous syntax we were picking straight from the 2-d array"
      ],
      "execution_count": null,
      "outputs": [
        {
          "output_type": "stream",
          "text": [
            "3\n",
            "[3 4]\n",
            "[0 1 2]\n",
            "[ 3  4  5  6  7  8  9 10]\n",
            "6\n",
            "6\n"
          ],
          "name": "stdout"
        }
      ]
    },
    {
      "cell_type": "markdown",
      "metadata": {
        "id": "LdC3wdfrducA"
      },
      "source": [
        "# Selection\n",
        "\n",
        "We can select easily from an array as follows. Compare with what we did in lists to perform a similar selection. There we had to use list comprehension"
      ]
    },
    {
      "cell_type": "code",
      "metadata": {
        "colab": {
          "base_uri": "https://localhost:8080/"
        },
        "id": "h-cYJ-Nedyyb",
        "outputId": "3c5b709b-5749-4da8-d3d3-db28d3df8942"
      },
      "source": [
        "ex_arr[ex_arr>3]"
      ],
      "execution_count": null,
      "outputs": [
        {
          "output_type": "execute_result",
          "data": {
            "text/plain": [
              "array([ 4,  5,  6,  7,  8,  9, 10])"
            ]
          },
          "metadata": {
            "tags": []
          },
          "execution_count": 53
        }
      ]
    },
    {
      "cell_type": "markdown",
      "metadata": {
        "id": "oF0SwqiteGHs"
      },
      "source": [
        "# Operations using arrays\n",
        "\n",
        "you can apply a numpy method to every element of an array directly such as np.sin\n",
        "\n",
        "you can perform array element wise addition, subtraction etc"
      ]
    },
    {
      "cell_type": "code",
      "metadata": {
        "colab": {
          "base_uri": "https://localhost:8080/"
        },
        "id": "GpYLPD6ReXsk",
        "outputId": "392f0ffe-a6c7-4f78-84bd-1969a4bfaad8"
      },
      "source": [
        "ex_arr_2 = 2*ex_arr\n",
        "ex_arr + ex_arr_2\n",
        "\n"
      ],
      "execution_count": null,
      "outputs": [
        {
          "output_type": "execute_result",
          "data": {
            "text/plain": [
              "array([ 0,  3,  6,  9, 12, 15, 18, 21, 24, 27, 30])"
            ]
          },
          "metadata": {
            "tags": []
          },
          "execution_count": 55
        }
      ]
    },
    {
      "cell_type": "markdown",
      "metadata": {
        "id": "yrl12quRbTvm"
      },
      "source": [
        "# Exercise in numpy\n",
        "\n",
        "Create X, an array of size 100x1 with normally distributed random variables\n",
        "\n",
        "Find $sin^2(X)+cos^2(X)$\n",
        "\n"
      ]
    },
    {
      "cell_type": "code",
      "metadata": {
        "id": "4tVsJCEd8JSI"
      },
      "source": [
        "X=np.random.randn(100,1)\n",
        "y = np.sin(X)**2 + np.cos(X)**2\n",
        "print(y)\n",
        "\n"
      ],
      "execution_count": null,
      "outputs": []
    },
    {
      "cell_type": "markdown",
      "metadata": {
        "id": "qvnVx0rnKN_b"
      },
      "source": [
        "# Matplotlib\n",
        "\n"
      ]
    },
    {
      "cell_type": "code",
      "metadata": {
        "colab": {
          "base_uri": "https://localhost:8080/",
          "height": 282
        },
        "id": "KXLZTGbEan1U",
        "outputId": "3cc6b387-2bc5-42e0-a103-2a08f59b24f2"
      },
      "source": [
        "t = np.arange(-np.pi,np.pi,0.1)\n",
        "y = np.sin(t)\n",
        "\n",
        "plt.figure(figsize=[6,4]) # decide a figure size\n",
        "plt.plot(t,y,'r.')"
      ],
      "execution_count": null,
      "outputs": [
        {
          "output_type": "execute_result",
          "data": {
            "text/plain": [
              "[<matplotlib.lines.Line2D at 0x7f7f901a7390>]"
            ]
          },
          "metadata": {
            "tags": []
          },
          "execution_count": 15
        },
        {
          "output_type": "display_data",
          "data": {
            "image/png": "[encoded data removed]",
            "text/plain": [
              "<Figure size 432x288 with 1 Axes>"
            ]
          },
          "metadata": {
            "tags": [],
            "needs_background": "light"
          }
        }
      ]
    },
    {
      "cell_type": "code",
      "metadata": {
        "colab": {
          "base_uri": "https://localhost:8080/",
          "height": 282
        },
        "id": "UHY95txpLMjP",
        "outputId": "06438af1-19a4-4171-99eb-d540ebce65b5"
      },
      "source": [
        "plt.figure(figsize=[10,4]) # decide a figure size\n",
        "plt.scatter(y,y**2)"
      ],
      "execution_count": null,
      "outputs": [
        {
          "output_type": "execute_result",
          "data": {
            "text/plain": [
              "<matplotlib.collections.PathCollection at 0x7f7f9008a710>"
            ]
          },
          "metadata": {
            "tags": []
          },
          "execution_count": 17
        },
        {
          "output_type": "display_data",
          "data": {
            "image/png": "[encoded data removed]",
            "text/plain": [
              "<Figure size 720x288 with 1 Axes>"
            ]
          },
          "metadata": {
            "tags": [],
            "needs_background": "light"
          }
        }
      ]
    },
    {
      "cell_type": "markdown",
      "metadata": {
        "id": "zFYkC_Z80TRq"
      },
      "source": [
        "# Pandas\n",
        "\n",
        "Pandas is a package in python that makes working with tabular data easier than with numpy arrays.\n",
        "\n",
        "The key features of Pandas that we must be aware of are as follows.\n",
        "\n",
        "1.   Series - Series is a basic data type of pandas. It can be thought of as an efficient dictionary but in the form of a list. It has an index, either numeric or labelled, and values.\n",
        "2.   DataFrames - Collection of series objects. The main reason why we use Pandas.\n",
        "3.   Data Input and Output - Read from csv, excel etc. - Getting colab to read local files is slightly tricky. It is straightforward from your local disk if you are running pandas locally.\n",
        "4.   Missing Data - How to handle missing data? - dropna, fillna\n",
        "5.   GroupBy\n",
        "6.   Merging,Joining,and Concatenating\n",
        "7.   Operations\n",
        "\n"
      ]
    },
    {
      "cell_type": "code",
      "metadata": {
        "id": "WSeg4frYuwr4"
      },
      "source": [
        "import numpy as np\n",
        "import pandas as pd\n",
        "import seaborn as sns"
      ],
      "execution_count": null,
      "outputs": []
    },
    {
      "cell_type": "markdown",
      "metadata": {
        "id": "fbHIPgokutlY"
      },
      "source": [
        "# Series"
      ]
    },
    {
      "cell_type": "code",
      "metadata": {
        "colab": {
          "base_uri": "https://localhost:8080/"
        },
        "id": "eQQgVDXgtxEn",
        "outputId": "e1ad596c-8a5a-477f-ce89-eea3d5cbb468"
      },
      "source": [
        "labels = ['A','B','C']\n",
        "ex_list = [100,200,300]\n",
        "\n",
        "pd.Series(data=ex_list) # this makes a series with index as integers\n"
      ],
      "execution_count": null,
      "outputs": [
        {
          "output_type": "execute_result",
          "data": {
            "text/plain": [
              "0    100\n",
              "1    200\n",
              "2    300\n",
              "dtype: int64"
            ]
          },
          "metadata": {
            "tags": []
          },
          "execution_count": 3
        }
      ]
    },
    {
      "cell_type": "code",
      "metadata": {
        "colab": {
          "base_uri": "https://localhost:8080/"
        },
        "id": "v8OR5Zoquqno",
        "outputId": "281d3ed1-758b-4a3b-8544-31e9558cabee"
      },
      "source": [
        "pd.Series(data=ex_list,index=labels) # this makes a series with index as the list labels"
      ],
      "execution_count": null,
      "outputs": [
        {
          "output_type": "execute_result",
          "data": {
            "text/plain": [
              "A    100\n",
              "B    200\n",
              "C    300\n",
              "dtype: int64"
            ]
          },
          "metadata": {
            "tags": []
          },
          "execution_count": 4
        }
      ]
    },
    {
      "cell_type": "code",
      "metadata": {
        "colab": {
          "base_uri": "https://localhost:8080/"
        },
        "id": "Lvn9RE6Iu9DX",
        "outputId": "cc281773-1dfe-4858-92d6-fc6343757475"
      },
      "source": [
        "srs = pd.Series(data=ex_list,index=labels)\n",
        "srs[\"A\"] # access a series from the index."
      ],
      "execution_count": null,
      "outputs": [
        {
          "output_type": "execute_result",
          "data": {
            "text/plain": [
              "100"
            ]
          },
          "metadata": {
            "tags": []
          },
          "execution_count": 5
        }
      ]
    },
    {
      "cell_type": "code",
      "metadata": {
        "id": "Pcw40iznvmrv"
      },
      "source": [
        "ex_arr = np.array([150,50,30])\n",
        "srs1 = pd.Series(data=ex_list,index=labels)\n",
        "srs2 = pd.Series(data=ex_arr,index=labels)"
      ],
      "execution_count": null,
      "outputs": []
    },
    {
      "cell_type": "code",
      "metadata": {
        "colab": {
          "base_uri": "https://localhost:8080/"
        },
        "id": "V9t8Nm-EwIen",
        "outputId": "3fa95073-e817-42eb-f4a8-b252385bb19b"
      },
      "source": [
        "srs1+srs2 # this performs index based addition"
      ],
      "execution_count": null,
      "outputs": [
        {
          "output_type": "execute_result",
          "data": {
            "text/plain": [
              "A    250\n",
              "B    250\n",
              "C    330\n",
              "dtype: int64"
            ]
          },
          "metadata": {
            "tags": []
          },
          "execution_count": 7
        }
      ]
    },
    {
      "cell_type": "markdown",
      "metadata": {
        "id": "1vT33COBwPyr"
      },
      "source": [
        "Activity: Create a series with 'A','B','C' as index and another with 'B','C','D' as index. Try adding these two series."
      ]
    },
    {
      "cell_type": "markdown",
      "metadata": {
        "id": "3mNiWoUlwlw8"
      },
      "source": [
        "# Data Frames\n",
        "\n",
        "DataFrames are the reason to use pandas. It is directly inspired by the R programming language. DataFrame is a collection of Series objects that share the same index.\n",
        "\n",
        "Usually, we will load external data in the form of csv, excel, jsaon et to pandas.\n",
        "\n",
        "The pandas project has extensive documentation that should be our source of information on the syntax in Pandas: https://pandas.pydata.org/docs/user_guide/index.html\n",
        "\n",
        "The above page has several exercises which will help us get started.\n",
        "\n",
        "Start with this 10 minute exercise - https://pandas.pydata.org/docs/user_guide/10min.html#min\n",
        "\n",
        "Things to learn:\n",
        "1. Create a dummy dataframe\n",
        "2. seeing the top and bottom of the data - head(), tail() methods\n",
        "3. seeing the names of  index, columns - .index, .columns attribute\n",
        "4. describe() method for getting statistics of numerical data in the dataframe\n",
        "5. .T attribute to transpose a dataframe\n",
        "6. Selecting a full column, selecting a subset of columns, selecting all columns but a subset of rows, selecting a subset of columns and rows - df.loc[], df.iloc[]\n",
        "7. Boolean indexing - secting a subset\n",
        "8. Setting values of a series\n",
        "9. df.apply() for applying a specified function to all rows of df.\n",
        "10. Grouping - Slightly tricky\n",
        "11. Concatenating, merging and joining dataframes"
      ]
    },
    {
      "cell_type": "markdown",
      "metadata": {
        "id": "dB6axK0w0L8k"
      },
      "source": [
        "# Grouping\n",
        "\n",
        "By “group by” we are referring to a process involving one or more of the following steps:\n",
        "\n",
        "1. Splitting the data into groups based on some criteria\n",
        "\n",
        "2. Applying a function to each group independently\n",
        "\n",
        "3. Combining the results into a data structure\n"
      ]
    },
    {
      "cell_type": "code",
      "metadata": {
        "id": "21nrNO9DwMWP"
      },
      "source": [],
      "execution_count": null,
      "outputs": []
    },
    {
      "cell_type": "markdown",
      "metadata": {
        "id": "OcPbfWun1CIl"
      },
      "source": [
        "# Loading CSV from local drive\n",
        "\n",
        "\n"
      ]
    },
    {
      "cell_type": "code",
      "metadata": {
        "colab": {
          "resources": {
            "http://localhost:8080/nbextensions/google.colab/files.js": {
              "data": "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",
              "ok": true,
              "headers": [
                [
                  "content-type",
                  "application/javascript"
                ]
              ],
              "status": 200,
              "status_text": ""
            }
          },
          "base_uri": "https://localhost:8080/",
          "height": 72
        },
        "id": "ZU75dBB61KYH",
        "outputId": "488b594b-e568-4921-f82f-e990266d8592"
      },
      "source": [
        "from google.colab import files\n",
        "uploaded = files.upload()"
      ],
      "execution_count": null,
      "outputs": [
        {
          "output_type": "display_data",
          "data": {
            "text/html": [
              "\n",
              "     <input type=\"file\" id=\"files-4efbaf7d-bf61-4926-93f1-a6bb6f8248bd\" name=\"files[]\" multiple disabled\n",
              "        style=\"border:none\" />\n",
              "     <output id=\"result-4efbaf7d-bf61-4926-93f1-a6bb6f8248bd\">\n",
              "      Upload widget is only available when the cell has been executed in the\n",
              "      current browser session. Please rerun this cell to enable.\n",
              "      </output>\n",
              "      <script src=\"/nbextensions/google.colab/files.js\"></script> "
            ],
            "text/plain": [
              "<IPython.core.display.HTML object>"
            ]
          },
          "metadata": {
            "tags": []
          }
        },
        {
          "output_type": "stream",
          "text": [
            "Saving Salaries.csv to Salaries.csv\n"
          ],
          "name": "stdout"
        }
      ]
    },
    {
      "cell_type": "code",
      "metadata": {
        "id": "-PKvimGA1MDv"
      },
      "source": [
        "import io\n",
        "df2 = pd.read_csv(io.BytesIO(uploaded['Salaries.csv'])) #Here I loaded a file called Salaries.csv, but you can load any other csv file."
      ],
      "execution_count": null,
      "outputs": []
    },
    {
      "cell_type": "code",
      "metadata": {
        "id": "Gg4WTNPF2eDv"
      },
      "source": [
        "df2.head()"
      ],
      "execution_count": null,
      "outputs": []
    },
    {
      "cell_type": "markdown",
      "metadata": {
        "id": "tyoUUvlQ15Iu"
      },
      "source": [
        "# Exercises in Pandas\n",
        "\n",
        "1. Load the state_wise_daily data of Covid in India: \thttps://api.covid19india.org/csv/latest/state_wise_daily.csv\n",
        "\n",
        "2. Create three new dataframes, one with only recovered, two with only death and three with only confirmed cases. Note that these are new confirmend, deceased and recovered on that day in that state.\n",
        "\n",
        "3. Find the average deaths per day for all states.\n",
        "\n",
        "4. Find the total number of deaths per state as of today.\n",
        "\n",
        "5. What is the new recovery in Karnataka on Aug 15, 2020?\n",
        "\n",
        "6. What is the total confirmed cases in Tamil Nadu on Sept 1, 2020?\n",
        "\n",
        "7. On what day was the active cases maximum in Uttar Pradesh?\n",
        "\n",
        "8. Which state had the highest active cases on any day? What day was it?\n",
        "\n"
      ]
    },
    {
      "cell_type": "code",
      "metadata": {
        "id": "8VMxAcViAxFZ"
      },
      "source": [
        "url = 'https://api.covid19india.org/csv/latest/state_wise_daily.csv'\n",
        "df = pd.read_csv(url)\n"
      ],
      "execution_count": null,
      "outputs": []
    },
    {
      "cell_type": "code",
      "metadata": {
        "colab": {
          "base_uri": "https://localhost:8080/",
          "height": 204
        },
        "id": "hiNyWaSpBKt9",
        "outputId": "273c6f85-b345-4ee3-9332-0bca7b9dc62c"
      },
      "source": [
        "df.head()"
      ],
      "execution_count": null,
      "outputs": [
        {
          "output_type": "execute_result",
          "data": {
            "text/html": [
              "<div>\n",
              "<style scoped>\n",
              "    .dataframe tbody tr th:only-of-type {\n",
              "        vertical-align: middle;\n",
              "    }\n",
              "\n",
              "    .dataframe tbody tr th {\n",
              "        vertical-align: top;\n",
              "    }\n",
              "\n",
              "    .dataframe thead th {\n",
              "        text-align: right;\n",
              "    }\n",
              "</style>\n",
              "<table border=\"1\" class=\"dataframe\">\n",
              "  <thead>\n",
              "    <tr style=\"text-align: right;\">\n",
              "      <th></th>\n",
              "      <th>Date</th>\n",
              "      <th>Date_YMD</th>\n",
              "      <th>Status</th>\n",
              "      <th>TT</th>\n",
              "      <th>AN</th>\n",
              "      <th>AP</th>\n",
              "      <th>AR</th>\n",
              "      <th>AS</th>\n",
              "      <th>BR</th>\n",
              "      <th>CH</th>\n",
              "      <th>CT</th>\n",
              "      <th>DN</th>\n",
              "      <th>DD</th>\n",
              "      <th>DL</th>\n",
              "      <th>GA</th>\n",
              "      <th>GJ</th>\n",
              "      <th>HR</th>\n",
              "      <th>HP</th>\n",
              "      <th>JK</th>\n",
              "      <th>JH</th>\n",
              "      <th>KA</th>\n",
              "      <th>KL</th>\n",
              "      <th>LA</th>\n",
              "      <th>LD</th>\n",
              "      <th>MP</th>\n",
              "      <th>MH</th>\n",
              "      <th>MN</th>\n",
              "      <th>ML</th>\n",
              "      <th>MZ</th>\n",
              "      <th>NL</th>\n",
              "      <th>OR</th>\n",
              "      <th>PY</th>\n",
              "      <th>PB</th>\n",
              "      <th>RJ</th>\n",
              "      <th>SK</th>\n",
              "      <th>TN</th>\n",
              "      <th>TG</th>\n",
              "      <th>TR</th>\n",
              "      <th>UP</th>\n",
              "      <th>UT</th>\n",
              "      <th>WB</th>\n",
              "      <th>UN</th>\n",
              "    </tr>\n",
              "  </thead>\n",
              "  <tbody>\n",
              "    <tr>\n",
              "      <th>0</th>\n",
              "      <td>14-Mar-20</td>\n",
              "      <td>2020-03-14</td>\n",
              "      <td>Confirmed</td>\n",
              "      <td>81</td>\n",
              "      <td>0</td>\n",
              "      <td>1</td>\n",
              "      <td>0</td>\n",
              "      <td>0</td>\n",
              "      <td>0</td>\n",
              "      <td>0</td>\n",
              "      <td>0</td>\n",
              "      <td>0</td>\n",
              "      <td>0</td>\n",
              "      <td>7</td>\n",
              "      <td>0</td>\n",
              "      <td>0</td>\n",
              "      <td>14</td>\n",
              "      <td>0</td>\n",
              "      <td>2</td>\n",
              "      <td>0</td>\n",
              "      <td>6</td>\n",
              "      <td>19</td>\n",
              "      <td>0</td>\n",
              "      <td>0</td>\n",
              "      <td>0</td>\n",
              "      <td>14</td>\n",
              "      <td>0</td>\n",
              "      <td>0</td>\n",
              "      <td>0</td>\n",
              "      <td>0</td>\n",
              "      <td>0</td>\n",
              "      <td>0</td>\n",
              "      <td>1</td>\n",
              "      <td>3</td>\n",
              "      <td>0</td>\n",
              "      <td>1</td>\n",
              "      <td>1</td>\n",
              "      <td>0</td>\n",
              "      <td>12</td>\n",
              "      <td>0</td>\n",
              "      <td>0</td>\n",
              "      <td>0</td>\n",
              "    </tr>\n",
              "    <tr>\n",
              "      <th>1</th>\n",
              "      <td>14-Mar-20</td>\n",
              "      <td>2020-03-14</td>\n",
              "      <td>Recovered</td>\n",
              "      <td>9</td>\n",
              "      <td>0</td>\n",
              "      <td>0</td>\n",
              "      <td>0</td>\n",
              "      <td>0</td>\n",
              "      <td>0</td>\n",
              "      <td>0</td>\n",
              "      <td>0</td>\n",
              "      <td>0</td>\n",
              "      <td>0</td>\n",
              "      <td>1</td>\n",
              "      <td>0</td>\n",
              "      <td>0</td>\n",
              "      <td>0</td>\n",
              "      <td>0</td>\n",
              "      <td>0</td>\n",
              "      <td>0</td>\n",
              "      <td>0</td>\n",
              "      <td>3</td>\n",
              "      <td>0</td>\n",
              "      <td>0</td>\n",
              "      <td>0</td>\n",
              "      <td>0</td>\n",
              "      <td>0</td>\n",
              "      <td>0</td>\n",
              "      <td>0</td>\n",
              "      <td>0</td>\n",
              "      <td>0</td>\n",
              "      <td>0</td>\n",
              "      <td>0</td>\n",
              "      <td>1</td>\n",
              "      <td>0</td>\n",
              "      <td>0</td>\n",
              "      <td>0</td>\n",
              "      <td>0</td>\n",
              "      <td>4</td>\n",
              "      <td>0</td>\n",
              "      <td>0</td>\n",
              "      <td>0</td>\n",
              "    </tr>\n",
              "    <tr>\n",
              "      <th>2</th>\n",
              "      <td>14-Mar-20</td>\n",
              "      <td>2020-03-14</td>\n",
              "      <td>Deceased</td>\n",
              "      <td>2</td>\n",
              "      <td>0</td>\n",
              "      <td>0</td>\n",
              "      <td>0</td>\n",
              "      <td>0</td>\n",
              "      <td>0</td>\n",
              "      <td>0</td>\n",
              "      <td>0</td>\n",
              "      <td>0</td>\n",
              "      <td>0</td>\n",
              "      <td>1</td>\n",
              "      <td>0</td>\n",
              "      <td>0</td>\n",
              "      <td>0</td>\n",
              "      <td>0</td>\n",
              "      <td>0</td>\n",
              "      <td>0</td>\n",
              "      <td>1</td>\n",
              "      <td>0</td>\n",
              "      <td>0</td>\n",
              "      <td>0</td>\n",
              "      <td>0</td>\n",
              "      <td>0</td>\n",
              "      <td>0</td>\n",
              "      <td>0</td>\n",
              "      <td>0</td>\n",
              "      <td>0</td>\n",
              "      <td>0</td>\n",
              "      <td>0</td>\n",
              "      <td>0</td>\n",
              "      <td>0</td>\n",
              "      <td>0</td>\n",
              "      <td>0</td>\n",
              "      <td>0</td>\n",
              "      <td>0</td>\n",
              "      <td>0</td>\n",
              "      <td>0</td>\n",
              "      <td>0</td>\n",
              "      <td>0</td>\n",
              "    </tr>\n",
              "    <tr>\n",
              "      <th>3</th>\n",
              "      <td>15-Mar-20</td>\n",
              "      <td>2020-03-15</td>\n",
              "      <td>Confirmed</td>\n",
              "      <td>27</td>\n",
              "      <td>0</td>\n",
              "      <td>0</td>\n",
              "      <td>0</td>\n",
              "      <td>0</td>\n",
              "      <td>0</td>\n",
              "      <td>0</td>\n",
              "      <td>0</td>\n",
              "      <td>0</td>\n",
              "      <td>0</td>\n",
              "      <td>0</td>\n",
              "      <td>0</td>\n",
              "      <td>0</td>\n",
              "      <td>0</td>\n",
              "      <td>0</td>\n",
              "      <td>0</td>\n",
              "      <td>0</td>\n",
              "      <td>0</td>\n",
              "      <td>5</td>\n",
              "      <td>0</td>\n",
              "      <td>0</td>\n",
              "      <td>0</td>\n",
              "      <td>18</td>\n",
              "      <td>0</td>\n",
              "      <td>0</td>\n",
              "      <td>0</td>\n",
              "      <td>0</td>\n",
              "      <td>0</td>\n",
              "      <td>0</td>\n",
              "      <td>0</td>\n",
              "      <td>1</td>\n",
              "      <td>0</td>\n",
              "      <td>0</td>\n",
              "      <td>2</td>\n",
              "      <td>0</td>\n",
              "      <td>1</td>\n",
              "      <td>0</td>\n",
              "      <td>0</td>\n",
              "      <td>0</td>\n",
              "    </tr>\n",
              "    <tr>\n",
              "      <th>4</th>\n",
              "      <td>15-Mar-20</td>\n",
              "      <td>2020-03-15</td>\n",
              "      <td>Recovered</td>\n",
              "      <td>4</td>\n",
              "      <td>0</td>\n",
              "      <td>0</td>\n",
              "      <td>0</td>\n",
              "      <td>0</td>\n",
              "      <td>0</td>\n",
              "      <td>0</td>\n",
              "      <td>0</td>\n",
              "      <td>0</td>\n",
              "      <td>0</td>\n",
              "      <td>1</td>\n",
              "      <td>0</td>\n",
              "      <td>0</td>\n",
              "      <td>0</td>\n",
              "      <td>0</td>\n",
              "      <td>0</td>\n",
              "      <td>0</td>\n",
              "      <td>0</td>\n",
              "      <td>0</td>\n",
              "      <td>0</td>\n",
              "      <td>0</td>\n",
              "      <td>0</td>\n",
              "      <td>0</td>\n",
              "      <td>0</td>\n",
              "      <td>0</td>\n",
              "      <td>0</td>\n",
              "      <td>0</td>\n",
              "      <td>0</td>\n",
              "      <td>0</td>\n",
              "      <td>0</td>\n",
              "      <td>2</td>\n",
              "      <td>0</td>\n",
              "      <td>0</td>\n",
              "      <td>1</td>\n",
              "      <td>0</td>\n",
              "      <td>0</td>\n",
              "      <td>0</td>\n",
              "      <td>0</td>\n",
              "      <td>0</td>\n",
              "    </tr>\n",
              "  </tbody>\n",
              "</table>\n",
              "</div>"
            ],
            "text/plain": [
              "        Date    Date_YMD     Status  TT  AN  AP  AR  ...  TN  TG  TR  UP  UT  WB  UN\n",
              "0  14-Mar-20  2020-03-14  Confirmed  81   0   1   0  ...   1   1   0  12   0   0   0\n",
              "1  14-Mar-20  2020-03-14  Recovered   9   0   0   0  ...   0   0   0   4   0   0   0\n",
              "2  14-Mar-20  2020-03-14   Deceased   2   0   0   0  ...   0   0   0   0   0   0   0\n",
              "3  15-Mar-20  2020-03-15  Confirmed  27   0   0   0  ...   0   2   0   1   0   0   0\n",
              "4  15-Mar-20  2020-03-15  Recovered   4   0   0   0  ...   0   1   0   0   0   0   0\n",
              "\n",
              "[5 rows x 42 columns]"
            ]
          },
          "metadata": {
            "tags": []
          },
          "execution_count": 3
        }
      ]
    },
    {
      "cell_type": "code",
      "metadata": {
        "id": "OcL1h0dvNmoR"
      },
      "source": [
        "df_conf = df.iloc[0::3]\n",
        "df_reco = df.iloc[1::3]\n",
        "df_decd = df.iloc[2::3]"
      ],
      "execution_count": null,
      "outputs": []
    },
    {
      "cell_type": "code",
      "metadata": {
        "colab": {
          "base_uri": "https://localhost:8080/",
          "height": 204
        },
        "id": "Tph4AZ0bNu5E",
        "outputId": "3f657d20-4d4f-4715-9676-0ef4beb1cf30"
      },
      "source": [
        "df_conf.head()\n",
        "df_reco.head()\n",
        "df_decd.head()"
      ],
      "execution_count": null,
      "outputs": [
        {
          "output_type": "execute_result",
          "data": {
            "text/html": [
              "<div>\n",
              "<style scoped>\n",
              "    .dataframe tbody tr th:only-of-type {\n",
              "        vertical-align: middle;\n",
              "    }\n",
              "\n",
              "    .dataframe tbody tr th {\n",
              "        vertical-align: top;\n",
              "    }\n",
              "\n",
              "    .dataframe thead th {\n",
              "        text-align: right;\n",
              "    }\n",
              "</style>\n",
              "<table border=\"1\" class=\"dataframe\">\n",
              "  <thead>\n",
              "    <tr style=\"text-align: right;\">\n",
              "      <th></th>\n",
              "      <th>Date</th>\n",
              "      <th>Date_YMD</th>\n",
              "      <th>Status</th>\n",
              "      <th>TT</th>\n",
              "      <th>AN</th>\n",
              "      <th>AP</th>\n",
              "      <th>AR</th>\n",
              "      <th>AS</th>\n",
              "      <th>BR</th>\n",
              "      <th>CH</th>\n",
              "      <th>CT</th>\n",
              "      <th>DN</th>\n",
              "      <th>DD</th>\n",
              "      <th>DL</th>\n",
              "      <th>GA</th>\n",
              "      <th>GJ</th>\n",
              "      <th>HR</th>\n",
              "      <th>HP</th>\n",
              "      <th>JK</th>\n",
              "      <th>JH</th>\n",
              "      <th>KA</th>\n",
              "      <th>KL</th>\n",
              "      <th>LA</th>\n",
              "      <th>LD</th>\n",
              "      <th>MP</th>\n",
              "      <th>MH</th>\n",
              "      <th>MN</th>\n",
              "      <th>ML</th>\n",
              "      <th>MZ</th>\n",
              "      <th>NL</th>\n",
              "      <th>OR</th>\n",
              "      <th>PY</th>\n",
              "      <th>PB</th>\n",
              "      <th>RJ</th>\n",
              "      <th>SK</th>\n",
              "      <th>TN</th>\n",
              "      <th>TG</th>\n",
              "      <th>TR</th>\n",
              "      <th>UP</th>\n",
              "      <th>UT</th>\n",
              "      <th>WB</th>\n",
              "      <th>UN</th>\n",
              "    </tr>\n",
              "  </thead>\n",
              "  <tbody>\n",
              "    <tr>\n",
              "      <th>2</th>\n",
              "      <td>14-Mar-20</td>\n",
              "      <td>2020-03-14</td>\n",
              "      <td>Deceased</td>\n",
              "      <td>2</td>\n",
              "      <td>0</td>\n",
              "      <td>0</td>\n",
              "      <td>0</td>\n",
              "      <td>0</td>\n",
              "      <td>0</td>\n",
              "      <td>0</td>\n",
              "      <td>0</td>\n",
              "      <td>0</td>\n",
              "      <td>0</td>\n",
              "      <td>1</td>\n",
              "      <td>0</td>\n",
              "      <td>0</td>\n",
              "      <td>0</td>\n",
              "      <td>0</td>\n",
              "      <td>0</td>\n",
              "      <td>0</td>\n",
              "      <td>1</td>\n",
              "      <td>0</td>\n",
              "      <td>0</td>\n",
              "      <td>0</td>\n",
              "      <td>0</td>\n",
              "      <td>0</td>\n",
              "      <td>0</td>\n",
              "      <td>0</td>\n",
              "      <td>0</td>\n",
              "      <td>0</td>\n",
              "      <td>0</td>\n",
              "      <td>0</td>\n",
              "      <td>0</td>\n",
              "      <td>0</td>\n",
              "      <td>0</td>\n",
              "      <td>0</td>\n",
              "      <td>0</td>\n",
              "      <td>0</td>\n",
              "      <td>0</td>\n",
              "      <td>0</td>\n",
              "      <td>0</td>\n",
              "      <td>0</td>\n",
              "    </tr>\n",
              "    <tr>\n",
              "      <th>5</th>\n",
              "      <td>15-Mar-20</td>\n",
              "      <td>2020-03-15</td>\n",
              "      <td>Deceased</td>\n",
              "      <td>0</td>\n",
              "      <td>0</td>\n",
              "      <td>0</td>\n",
              "      <td>0</td>\n",
              "      <td>0</td>\n",
              "      <td>0</td>\n",
              "      <td>0</td>\n",
              "      <td>0</td>\n",
              "      <td>0</td>\n",
              "      <td>0</td>\n",
              "      <td>0</td>\n",
              "      <td>0</td>\n",
              "      <td>0</td>\n",
              "      <td>0</td>\n",
              "      <td>0</td>\n",
              "      <td>0</td>\n",
              "      <td>0</td>\n",
              "      <td>0</td>\n",
              "      <td>0</td>\n",
              "      <td>0</td>\n",
              "      <td>0</td>\n",
              "      <td>0</td>\n",
              "      <td>0</td>\n",
              "      <td>0</td>\n",
              "      <td>0</td>\n",
              "      <td>0</td>\n",
              "      <td>0</td>\n",
              "      <td>0</td>\n",
              "      <td>0</td>\n",
              "      <td>0</td>\n",
              "      <td>0</td>\n",
              "      <td>0</td>\n",
              "      <td>0</td>\n",
              "      <td>0</td>\n",
              "      <td>0</td>\n",
              "      <td>0</td>\n",
              "      <td>0</td>\n",
              "      <td>0</td>\n",
              "      <td>0</td>\n",
              "    </tr>\n",
              "    <tr>\n",
              "      <th>8</th>\n",
              "      <td>16-Mar-20</td>\n",
              "      <td>2020-03-16</td>\n",
              "      <td>Deceased</td>\n",
              "      <td>0</td>\n",
              "      <td>0</td>\n",
              "      <td>0</td>\n",
              "      <td>0</td>\n",
              "      <td>0</td>\n",
              "      <td>0</td>\n",
              "      <td>0</td>\n",
              "      <td>0</td>\n",
              "      <td>0</td>\n",
              "      <td>0</td>\n",
              "      <td>0</td>\n",
              "      <td>0</td>\n",
              "      <td>0</td>\n",
              "      <td>0</td>\n",
              "      <td>0</td>\n",
              "      <td>0</td>\n",
              "      <td>0</td>\n",
              "      <td>0</td>\n",
              "      <td>0</td>\n",
              "      <td>0</td>\n",
              "      <td>0</td>\n",
              "      <td>0</td>\n",
              "      <td>0</td>\n",
              "      <td>0</td>\n",
              "      <td>0</td>\n",
              "      <td>0</td>\n",
              "      <td>0</td>\n",
              "      <td>0</td>\n",
              "      <td>0</td>\n",
              "      <td>0</td>\n",
              "      <td>0</td>\n",
              "      <td>0</td>\n",
              "      <td>0</td>\n",
              "      <td>0</td>\n",
              "      <td>0</td>\n",
              "      <td>0</td>\n",
              "      <td>0</td>\n",
              "      <td>0</td>\n",
              "      <td>0</td>\n",
              "    </tr>\n",
              "    <tr>\n",
              "      <th>11</th>\n",
              "      <td>17-Mar-20</td>\n",
              "      <td>2020-03-17</td>\n",
              "      <td>Deceased</td>\n",
              "      <td>1</td>\n",
              "      <td>0</td>\n",
              "      <td>0</td>\n",
              "      <td>0</td>\n",
              "      <td>0</td>\n",
              "      <td>0</td>\n",
              "      <td>0</td>\n",
              "      <td>0</td>\n",
              "      <td>0</td>\n",
              "      <td>0</td>\n",
              "      <td>0</td>\n",
              "      <td>0</td>\n",
              "      <td>0</td>\n",
              "      <td>0</td>\n",
              "      <td>0</td>\n",
              "      <td>0</td>\n",
              "      <td>0</td>\n",
              "      <td>0</td>\n",
              "      <td>0</td>\n",
              "      <td>0</td>\n",
              "      <td>0</td>\n",
              "      <td>0</td>\n",
              "      <td>1</td>\n",
              "      <td>0</td>\n",
              "      <td>0</td>\n",
              "      <td>0</td>\n",
              "      <td>0</td>\n",
              "      <td>0</td>\n",
              "      <td>0</td>\n",
              "      <td>0</td>\n",
              "      <td>0</td>\n",
              "      <td>0</td>\n",
              "      <td>0</td>\n",
              "      <td>0</td>\n",
              "      <td>0</td>\n",
              "      <td>0</td>\n",
              "      <td>0</td>\n",
              "      <td>0</td>\n",
              "      <td>0</td>\n",
              "    </tr>\n",
              "    <tr>\n",
              "      <th>14</th>\n",
              "      <td>18-Mar-20</td>\n",
              "      <td>2020-03-18</td>\n",
              "      <td>Deceased</td>\n",
              "      <td>0</td>\n",
              "      <td>0</td>\n",
              "      <td>0</td>\n",
              "      <td>0</td>\n",
              "      <td>0</td>\n",
              "      <td>0</td>\n",
              "      <td>0</td>\n",
              "      <td>0</td>\n",
              "      <td>0</td>\n",
              "      <td>0</td>\n",
              "      <td>0</td>\n",
              "      <td>0</td>\n",
              "      <td>0</td>\n",
              "      <td>0</td>\n",
              "      <td>0</td>\n",
              "      <td>0</td>\n",
              "      <td>0</td>\n",
              "      <td>0</td>\n",
              "      <td>0</td>\n",
              "      <td>0</td>\n",
              "      <td>0</td>\n",
              "      <td>0</td>\n",
              "      <td>0</td>\n",
              "      <td>0</td>\n",
              "      <td>0</td>\n",
              "      <td>0</td>\n",
              "      <td>0</td>\n",
              "      <td>0</td>\n",
              "      <td>0</td>\n",
              "      <td>0</td>\n",
              "      <td>0</td>\n",
              "      <td>0</td>\n",
              "      <td>0</td>\n",
              "      <td>0</td>\n",
              "      <td>0</td>\n",
              "      <td>0</td>\n",
              "      <td>0</td>\n",
              "      <td>0</td>\n",
              "      <td>0</td>\n",
              "    </tr>\n",
              "  </tbody>\n",
              "</table>\n",
              "</div>"
            ],
            "text/plain": [
              "         Date    Date_YMD    Status  TT  AN  AP  AR  ...  TN  TG  TR  UP  UT  WB  UN\n",
              "2   14-Mar-20  2020-03-14  Deceased   2   0   0   0  ...   0   0   0   0   0   0   0\n",
              "5   15-Mar-20  2020-03-15  Deceased   0   0   0   0  ...   0   0   0   0   0   0   0\n",
              "8   16-Mar-20  2020-03-16  Deceased   0   0   0   0  ...   0   0   0   0   0   0   0\n",
              "11  17-Mar-20  2020-03-17  Deceased   1   0   0   0  ...   0   0   0   0   0   0   0\n",
              "14  18-Mar-20  2020-03-18  Deceased   0   0   0   0  ...   0   0   0   0   0   0   0\n",
              "\n",
              "[5 rows x 42 columns]"
            ]
          },
          "metadata": {
            "tags": []
          },
          "execution_count": 11
        }
      ]
    },
    {
      "cell_type": "markdown",
      "metadata": {
        "id": "nWC1uNIUAGO4"
      },
      "source": [
        "# Seaborn\n",
        "\n",
        "Seaborn package is a speciality visualization package that makes beautiful plots and works well with Pandas."
      ]
    },
    {
      "cell_type": "code",
      "metadata": {
        "id": "YJWeEQ4CBLp4"
      },
      "source": [
        "import seaborn as sns"
      ],
      "execution_count": null,
      "outputs": []
    },
    {
      "cell_type": "code",
      "metadata": {
        "colab": {
          "base_uri": "https://localhost:8080/"
        },
        "id": "czo_p4NxNCLf",
        "outputId": "c8ce0c30-abd7-4cca-aa5d-605bb590bf98"
      },
      "source": [
        "sns.get_dataset_names() # seaborn package has some built in datasets (dataframes) to help us learn the commands and capabilities."
      ],
      "execution_count": null,
      "outputs": [
        {
          "output_type": "execute_result",
          "data": {
            "text/plain": [
              "['anagrams',\n",
              " 'anscombe',\n",
              " 'attention',\n",
              " 'brain_networks',\n",
              " 'car_crashes',\n",
              " 'diamonds',\n",
              " 'dots',\n",
              " 'exercise',\n",
              " 'flights',\n",
              " 'fmri',\n",
              " 'gammas',\n",
              " 'geyser',\n",
              " 'iris',\n",
              " 'mpg',\n",
              " 'penguins',\n",
              " 'planets',\n",
              " 'tips',\n",
              " 'titanic']"
            ]
          },
          "metadata": {
            "tags": []
          },
          "execution_count": 5
        }
      ]
    },
    {
      "cell_type": "code",
      "metadata": {
        "colab": {
          "base_uri": "https://localhost:8080/",
          "height": 221
        },
        "id": "SbqnyAVLNJpW",
        "outputId": "654c2802-2029-4c41-cd77-ea3c337786e7"
      },
      "source": [
        "df = sns.load_dataset('diamonds')\n",
        "print(df.shape) # how many data points (rows), and how many attributes (columns)\n",
        "df.head()\n"
      ],
      "execution_count": null,
      "outputs": [
        {
          "output_type": "stream",
          "text": [
            "(53940, 10)\n"
          ],
          "name": "stdout"
        },
        {
          "output_type": "execute_result",
          "data": {
            "text/html": [
              "<div>\n",
              "<style scoped>\n",
              "    .dataframe tbody tr th:only-of-type {\n",
              "        vertical-align: middle;\n",
              "    }\n",
              "\n",
              "    .dataframe tbody tr th {\n",
              "        vertical-align: top;\n",
              "    }\n",
              "\n",
              "    .dataframe thead th {\n",
              "        text-align: right;\n",
              "    }\n",
              "</style>\n",
              "<table border=\"1\" class=\"dataframe\">\n",
              "  <thead>\n",
              "    <tr style=\"text-align: right;\">\n",
              "      <th></th>\n",
              "      <th>carat</th>\n",
              "      <th>cut</th>\n",
              "      <th>color</th>\n",
              "      <th>clarity</th>\n",
              "      <th>depth</th>\n",
              "      <th>table</th>\n",
              "      <th>price</th>\n",
              "      <th>x</th>\n",
              "      <th>y</th>\n",
              "      <th>z</th>\n",
              "    </tr>\n",
              "  </thead>\n",
              "  <tbody>\n",
              "    <tr>\n",
              "      <th>0</th>\n",
              "      <td>0.23</td>\n",
              "      <td>Ideal</td>\n",
              "      <td>E</td>\n",
              "      <td>SI2</td>\n",
              "      <td>61.5</td>\n",
              "      <td>55.0</td>\n",
              "      <td>326</td>\n",
              "      <td>3.95</td>\n",
              "      <td>3.98</td>\n",
              "      <td>2.43</td>\n",
              "    </tr>\n",
              "    <tr>\n",
              "      <th>1</th>\n",
              "      <td>0.21</td>\n",
              "      <td>Premium</td>\n",
              "      <td>E</td>\n",
              "      <td>SI1</td>\n",
              "      <td>59.8</td>\n",
              "      <td>61.0</td>\n",
              "      <td>326</td>\n",
              "      <td>3.89</td>\n",
              "      <td>3.84</td>\n",
              "      <td>2.31</td>\n",
              "    </tr>\n",
              "    <tr>\n",
              "      <th>2</th>\n",
              "      <td>0.23</td>\n",
              "      <td>Good</td>\n",
              "      <td>E</td>\n",
              "      <td>VS1</td>\n",
              "      <td>56.9</td>\n",
              "      <td>65.0</td>\n",
              "      <td>327</td>\n",
              "      <td>4.05</td>\n",
              "      <td>4.07</td>\n",
              "      <td>2.31</td>\n",
              "    </tr>\n",
              "    <tr>\n",
              "      <th>3</th>\n",
              "      <td>0.29</td>\n",
              "      <td>Premium</td>\n",
              "      <td>I</td>\n",
              "      <td>VS2</td>\n",
              "      <td>62.4</td>\n",
              "      <td>58.0</td>\n",
              "      <td>334</td>\n",
              "      <td>4.20</td>\n",
              "      <td>4.23</td>\n",
              "      <td>2.63</td>\n",
              "    </tr>\n",
              "    <tr>\n",
              "      <th>4</th>\n",
              "      <td>0.31</td>\n",
              "      <td>Good</td>\n",
              "      <td>J</td>\n",
              "      <td>SI2</td>\n",
              "      <td>63.3</td>\n",
              "      <td>58.0</td>\n",
              "      <td>335</td>\n",
              "      <td>4.34</td>\n",
              "      <td>4.35</td>\n",
              "      <td>2.75</td>\n",
              "    </tr>\n",
              "  </tbody>\n",
              "</table>\n",
              "</div>"
            ],
            "text/plain": [
              "   carat      cut color clarity  depth  table  price     x     y     z\n",
              "0   0.23    Ideal     E     SI2   61.5   55.0    326  3.95  3.98  2.43\n",
              "1   0.21  Premium     E     SI1   59.8   61.0    326  3.89  3.84  2.31\n",
              "2   0.23     Good     E     VS1   56.9   65.0    327  4.05  4.07  2.31\n",
              "3   0.29  Premium     I     VS2   62.4   58.0    334  4.20  4.23  2.63\n",
              "4   0.31     Good     J     SI2   63.3   58.0    335  4.34  4.35  2.75"
            ]
          },
          "metadata": {
            "tags": []
          },
          "execution_count": 23
        }
      ]
    },
    {
      "cell_type": "code",
      "metadata": {
        "colab": {
          "base_uri": "https://localhost:8080/",
          "height": 296
        },
        "id": "_JM2sVuXRLTD",
        "outputId": "755b848b-7fef-48df-a665-a0e625f38bbf"
      },
      "source": [
        "sns.histplot(df, x='price', hue='color')"
      ],
      "execution_count": null,
      "outputs": [
        {
          "output_type": "execute_result",
          "data": {
            "text/plain": [
              "<matplotlib.axes._subplots.AxesSubplot at 0x7fd6d3e07c50>"
            ]
          },
          "metadata": {
            "tags": []
          },
          "execution_count": 30
        },
        {
          "output_type": "display_data",
          "data": {
            "image/png": "[encoded data removed]",
            "text/plain": [
              "<Figure size 432x288 with 1 Axes>"
            ]
          },
          "metadata": {
            "tags": [],
            "needs_background": "light"
          }
        }
      ]
    },
    {
      "cell_type": "code",
      "metadata": {
        "colab": {
          "base_uri": "https://localhost:8080/",
          "height": 743
        },
        "id": "m4F_x-8ZSa5J",
        "outputId": "3b873dfe-8341-441b-bafb-d8798874a77f"
      },
      "source": [
        "sns.pairplot(df,vars=['price','carat','table','depth'])"
      ],
      "execution_count": null,
      "outputs": [
        {
          "output_type": "execute_result",
          "data": {
            "text/plain": [
              "<seaborn.axisgrid.PairGrid at 0x7fd6d0e852b0>"
            ]
          },
          "metadata": {
            "tags": []
          },
          "execution_count": 32
        },
        {
          "output_type": "display_data",
          "data": {
            "image/png": "[encoded data removed]",
            "text/plain": [
              "<Figure size 720x720 with 20 Axes>"
            ]
          },
          "metadata": {
            "tags": [],
            "needs_background": "light"
          }
        }
      ]
    },
    {
      "cell_type": "code",
      "metadata": {
        "colab": {
          "base_uri": "https://localhost:8080/",
          "height": 386
        },
        "id": "Rj7qg2byTGIU",
        "outputId": "2efbe6b0-bd0a-4822-d1f0-8a4192d8237c"
      },
      "source": [
        "sns.displot(data=df, x=\"price\", kind=\"kde\")"
      ],
      "execution_count": null,
      "outputs": [
        {
          "output_type": "execute_result",
          "data": {
            "text/plain": [
              "<seaborn.axisgrid.FacetGrid at 0x7fd6ce95bba8>"
            ]
          },
          "metadata": {
            "tags": []
          },
          "execution_count": 34
        },
        {
          "output_type": "display_data",
          "data": {
            "image/png": "[encoded data removed]",
            "text/plain": [
              "<Figure size 360x360 with 1 Axes>"
            ]
          },
          "metadata": {
            "tags": [],
            "needs_background": "light"
          }
        }
      ]
    },
    {
      "cell_type": "code",
      "metadata": {
        "id": "LWyabXr1T_O0"
      },
      "source": [],
      "execution_count": null,
      "outputs": []
    }
  ]
}
